{
 "cells": [
  {
   "cell_type": "code",
   "execution_count": 1,
   "id": "f4d9206a",
   "metadata": {},
   "outputs": [],
   "source": [
    "import numpy as np\n",
    "import pandas as pd\n",
    "import matplotlib.pyplot as plt\n",
    "import matplotlib as mpl\n",
    "import seaborn as sns\n",
    "\n",
    "\n",
    "df1 = pd.read_csv(\"final_set.csv\")"
   ]
  },
  {
   "cell_type": "code",
   "execution_count": 2,
   "id": "8826dc3b",
   "metadata": {},
   "outputs": [
    {
     "data": {
      "text/html": [
       "<div>\n",
       "<style scoped>\n",
       "    .dataframe tbody tr th:only-of-type {\n",
       "        vertical-align: middle;\n",
       "    }\n",
       "\n",
       "    .dataframe tbody tr th {\n",
       "        vertical-align: top;\n",
       "    }\n",
       "\n",
       "    .dataframe thead th {\n",
       "        text-align: right;\n",
       "    }\n",
       "</style>\n",
       "<table border=\"1\" class=\"dataframe\">\n",
       "  <thead>\n",
       "    <tr style=\"text-align: right;\">\n",
       "      <th></th>\n",
       "      <th>Unnamed: 0</th>\n",
       "      <th>playerId</th>\n",
       "      <th>season</th>\n",
       "      <th>name</th>\n",
       "      <th>team</th>\n",
       "      <th>position</th>\n",
       "      <th>situation</th>\n",
       "      <th>games_played</th>\n",
       "      <th>icetime</th>\n",
       "      <th>shifts</th>\n",
       "      <th>...</th>\n",
       "      <th>OffIce_A_xGoals</th>\n",
       "      <th>OffIce_F_shotAttempts</th>\n",
       "      <th>OffIce_A_shotAttempts</th>\n",
       "      <th>xGoalsForAfterShifts</th>\n",
       "      <th>xGoalsAgainstAfterShifts</th>\n",
       "      <th>corsiForAfterShifts</th>\n",
       "      <th>corsiAgainstAfterShifts</th>\n",
       "      <th>fenwickForAfterShifts</th>\n",
       "      <th>fenwickAgainstAfterShifts</th>\n",
       "      <th>HART</th>\n",
       "    </tr>\n",
       "  </thead>\n",
       "  <tbody>\n",
       "    <tr>\n",
       "      <th>0</th>\n",
       "      <td>0</td>\n",
       "      <td>8462196</td>\n",
       "      <td>2008</td>\n",
       "      <td>Stephane Robidas</td>\n",
       "      <td>DAL</td>\n",
       "      <td>D</td>\n",
       "      <td>other</td>\n",
       "      <td>72</td>\n",
       "      <td>6729</td>\n",
       "      <td>105</td>\n",
       "      <td>...</td>\n",
       "      <td>12.11</td>\n",
       "      <td>106</td>\n",
       "      <td>122</td>\n",
       "      <td>0.14</td>\n",
       "      <td>0.00</td>\n",
       "      <td>4</td>\n",
       "      <td>0</td>\n",
       "      <td>3</td>\n",
       "      <td>0</td>\n",
       "      <td>0.0</td>\n",
       "    </tr>\n",
       "    <tr>\n",
       "      <th>1</th>\n",
       "      <td>1</td>\n",
       "      <td>8462196</td>\n",
       "      <td>2008</td>\n",
       "      <td>Stephane Robidas</td>\n",
       "      <td>DAL</td>\n",
       "      <td>D</td>\n",
       "      <td>all</td>\n",
       "      <td>72</td>\n",
       "      <td>105958</td>\n",
       "      <td>2026</td>\n",
       "      <td>...</td>\n",
       "      <td>116.39</td>\n",
       "      <td>2161</td>\n",
       "      <td>2223</td>\n",
       "      <td>0.00</td>\n",
       "      <td>0.00</td>\n",
       "      <td>0</td>\n",
       "      <td>0</td>\n",
       "      <td>0</td>\n",
       "      <td>0</td>\n",
       "      <td>0.0</td>\n",
       "    </tr>\n",
       "    <tr>\n",
       "      <th>2</th>\n",
       "      <td>2</td>\n",
       "      <td>8462196</td>\n",
       "      <td>2008</td>\n",
       "      <td>Stephane Robidas</td>\n",
       "      <td>DAL</td>\n",
       "      <td>D</td>\n",
       "      <td>5on5</td>\n",
       "      <td>72</td>\n",
       "      <td>74053</td>\n",
       "      <td>1480</td>\n",
       "      <td>...</td>\n",
       "      <td>74.66</td>\n",
       "      <td>1678</td>\n",
       "      <td>1647</td>\n",
       "      <td>3.64</td>\n",
       "      <td>0.18</td>\n",
       "      <td>91</td>\n",
       "      <td>10</td>\n",
       "      <td>74</td>\n",
       "      <td>8</td>\n",
       "      <td>0.0</td>\n",
       "    </tr>\n",
       "    <tr>\n",
       "      <th>3</th>\n",
       "      <td>3</td>\n",
       "      <td>8462196</td>\n",
       "      <td>2008</td>\n",
       "      <td>Stephane Robidas</td>\n",
       "      <td>DAL</td>\n",
       "      <td>D</td>\n",
       "      <td>4on5</td>\n",
       "      <td>72</td>\n",
       "      <td>10397</td>\n",
       "      <td>235</td>\n",
       "      <td>...</td>\n",
       "      <td>27.37</td>\n",
       "      <td>57</td>\n",
       "      <td>380</td>\n",
       "      <td>0.15</td>\n",
       "      <td>0.00</td>\n",
       "      <td>3</td>\n",
       "      <td>0</td>\n",
       "      <td>3</td>\n",
       "      <td>0</td>\n",
       "      <td>0.0</td>\n",
       "    </tr>\n",
       "    <tr>\n",
       "      <th>4</th>\n",
       "      <td>4</td>\n",
       "      <td>8462196</td>\n",
       "      <td>2008</td>\n",
       "      <td>Stephane Robidas</td>\n",
       "      <td>DAL</td>\n",
       "      <td>D</td>\n",
       "      <td>5on4</td>\n",
       "      <td>72</td>\n",
       "      <td>14779</td>\n",
       "      <td>206</td>\n",
       "      <td>...</td>\n",
       "      <td>1.47</td>\n",
       "      <td>294</td>\n",
       "      <td>42</td>\n",
       "      <td>0.13</td>\n",
       "      <td>0.00</td>\n",
       "      <td>6</td>\n",
       "      <td>0</td>\n",
       "      <td>6</td>\n",
       "      <td>0</td>\n",
       "      <td>0.0</td>\n",
       "    </tr>\n",
       "  </tbody>\n",
       "</table>\n",
       "<p>5 rows × 156 columns</p>\n",
       "</div>"
      ],
      "text/plain": [
       "   Unnamed: 0  playerId  season              name team position situation  \\\n",
       "0           0   8462196    2008  Stephane Robidas  DAL        D     other   \n",
       "1           1   8462196    2008  Stephane Robidas  DAL        D       all   \n",
       "2           2   8462196    2008  Stephane Robidas  DAL        D      5on5   \n",
       "3           3   8462196    2008  Stephane Robidas  DAL        D      4on5   \n",
       "4           4   8462196    2008  Stephane Robidas  DAL        D      5on4   \n",
       "\n",
       "   games_played  icetime  shifts  ...  OffIce_A_xGoals  OffIce_F_shotAttempts  \\\n",
       "0            72     6729     105  ...            12.11                    106   \n",
       "1            72   105958    2026  ...           116.39                   2161   \n",
       "2            72    74053    1480  ...            74.66                   1678   \n",
       "3            72    10397     235  ...            27.37                     57   \n",
       "4            72    14779     206  ...             1.47                    294   \n",
       "\n",
       "   OffIce_A_shotAttempts  xGoalsForAfterShifts  xGoalsAgainstAfterShifts  \\\n",
       "0                    122                  0.14                      0.00   \n",
       "1                   2223                  0.00                      0.00   \n",
       "2                   1647                  3.64                      0.18   \n",
       "3                    380                  0.15                      0.00   \n",
       "4                     42                  0.13                      0.00   \n",
       "\n",
       "   corsiForAfterShifts  corsiAgainstAfterShifts  fenwickForAfterShifts  \\\n",
       "0                    4                        0                      3   \n",
       "1                    0                        0                      0   \n",
       "2                   91                       10                     74   \n",
       "3                    3                        0                      3   \n",
       "4                    6                        0                      6   \n",
       "\n",
       "   fenwickAgainstAfterShifts  HART  \n",
       "0                          0   0.0  \n",
       "1                          0   0.0  \n",
       "2                          8   0.0  \n",
       "3                          0   0.0  \n",
       "4                          0   0.0  \n",
       "\n",
       "[5 rows x 156 columns]"
      ]
     },
     "execution_count": 2,
     "metadata": {},
     "output_type": "execute_result"
    }
   ],
   "source": [
    "df1.head()"
   ]
  },
  {
   "cell_type": "code",
   "execution_count": 2,
   "id": "4cf6f979",
   "metadata": {},
   "outputs": [],
   "source": [
    "df1.drop(\"Unnamed: 0\", axis=1, inplace=True)"
   ]
  },
  {
   "cell_type": "code",
   "execution_count": 3,
   "id": "30ec4814",
   "metadata": {},
   "outputs": [],
   "source": [
    "df2 = df1[df1[\"situation\"] == \"all\"]"
   ]
  },
  {
   "cell_type": "code",
   "execution_count": 4,
   "id": "ab41af24",
   "metadata": {},
   "outputs": [],
   "source": [
    "matrix = df2.corr()"
   ]
  },
  {
   "cell_type": "code",
   "execution_count": 5,
   "id": "0c8ed3c2",
   "metadata": {},
   "outputs": [
    {
     "data": {
      "text/html": [
       "<div>\n",
       "<style scoped>\n",
       "    .dataframe tbody tr th:only-of-type {\n",
       "        vertical-align: middle;\n",
       "    }\n",
       "\n",
       "    .dataframe tbody tr th {\n",
       "        vertical-align: top;\n",
       "    }\n",
       "\n",
       "    .dataframe thead th {\n",
       "        text-align: right;\n",
       "    }\n",
       "</style>\n",
       "<table border=\"1\" class=\"dataframe\">\n",
       "  <thead>\n",
       "    <tr style=\"text-align: right;\">\n",
       "      <th></th>\n",
       "      <th>playerId</th>\n",
       "      <th>season</th>\n",
       "      <th>games_played</th>\n",
       "      <th>icetime</th>\n",
       "      <th>shifts</th>\n",
       "      <th>gameScore</th>\n",
       "      <th>onIce_xGoalsPercentage</th>\n",
       "      <th>offIce_xGoalsPercentage</th>\n",
       "      <th>onIce_corsiPercentage</th>\n",
       "      <th>offIce_corsiPercentage</th>\n",
       "      <th>...</th>\n",
       "      <th>OffIce_A_xGoals</th>\n",
       "      <th>OffIce_F_shotAttempts</th>\n",
       "      <th>OffIce_A_shotAttempts</th>\n",
       "      <th>xGoalsForAfterShifts</th>\n",
       "      <th>xGoalsAgainstAfterShifts</th>\n",
       "      <th>corsiForAfterShifts</th>\n",
       "      <th>corsiAgainstAfterShifts</th>\n",
       "      <th>fenwickForAfterShifts</th>\n",
       "      <th>fenwickAgainstAfterShifts</th>\n",
       "      <th>HART</th>\n",
       "    </tr>\n",
       "  </thead>\n",
       "  <tbody>\n",
       "    <tr>\n",
       "      <th>playerId</th>\n",
       "      <td>1.000000</td>\n",
       "      <td>0.642117</td>\n",
       "      <td>-0.228614</td>\n",
       "      <td>-0.218406</td>\n",
       "      <td>-0.229629</td>\n",
       "      <td>-0.119377</td>\n",
       "      <td>-0.006611</td>\n",
       "      <td>-0.040749</td>\n",
       "      <td>0.005419</td>\n",
       "      <td>-0.043986</td>\n",
       "      <td>...</td>\n",
       "      <td>-0.172110</td>\n",
       "      <td>-0.212770</td>\n",
       "      <td>-0.202717</td>\n",
       "      <td>NaN</td>\n",
       "      <td>NaN</td>\n",
       "      <td>NaN</td>\n",
       "      <td>NaN</td>\n",
       "      <td>NaN</td>\n",
       "      <td>NaN</td>\n",
       "      <td>0.000342</td>\n",
       "    </tr>\n",
       "    <tr>\n",
       "      <th>season</th>\n",
       "      <td>0.642117</td>\n",
       "      <td>1.000000</td>\n",
       "      <td>-0.043302</td>\n",
       "      <td>-0.036617</td>\n",
       "      <td>-0.047770</td>\n",
       "      <td>-0.000896</td>\n",
       "      <td>-0.022058</td>\n",
       "      <td>0.011523</td>\n",
       "      <td>-0.013412</td>\n",
       "      <td>0.014233</td>\n",
       "      <td>...</td>\n",
       "      <td>0.005887</td>\n",
       "      <td>-0.031411</td>\n",
       "      <td>-0.033607</td>\n",
       "      <td>NaN</td>\n",
       "      <td>NaN</td>\n",
       "      <td>NaN</td>\n",
       "      <td>NaN</td>\n",
       "      <td>NaN</td>\n",
       "      <td>NaN</td>\n",
       "      <td>-0.002133</td>\n",
       "    </tr>\n",
       "    <tr>\n",
       "      <th>games_played</th>\n",
       "      <td>-0.228614</td>\n",
       "      <td>-0.043302</td>\n",
       "      <td>1.000000</td>\n",
       "      <td>0.925224</td>\n",
       "      <td>0.948895</td>\n",
       "      <td>0.716996</td>\n",
       "      <td>0.220257</td>\n",
       "      <td>0.027963</td>\n",
       "      <td>0.205423</td>\n",
       "      <td>0.002266</td>\n",
       "      <td>...</td>\n",
       "      <td>0.962557</td>\n",
       "      <td>0.963994</td>\n",
       "      <td>0.975147</td>\n",
       "      <td>NaN</td>\n",
       "      <td>NaN</td>\n",
       "      <td>NaN</td>\n",
       "      <td>NaN</td>\n",
       "      <td>NaN</td>\n",
       "      <td>NaN</td>\n",
       "      <td>0.052184</td>\n",
       "    </tr>\n",
       "    <tr>\n",
       "      <th>icetime</th>\n",
       "      <td>-0.218406</td>\n",
       "      <td>-0.036617</td>\n",
       "      <td>0.925224</td>\n",
       "      <td>1.000000</td>\n",
       "      <td>0.989425</td>\n",
       "      <td>0.781982</td>\n",
       "      <td>0.253112</td>\n",
       "      <td>-0.012230</td>\n",
       "      <td>0.249209</td>\n",
       "      <td>-0.037710</td>\n",
       "      <td>...</td>\n",
       "      <td>0.818363</td>\n",
       "      <td>0.814011</td>\n",
       "      <td>0.839403</td>\n",
       "      <td>NaN</td>\n",
       "      <td>NaN</td>\n",
       "      <td>NaN</td>\n",
       "      <td>NaN</td>\n",
       "      <td>NaN</td>\n",
       "      <td>NaN</td>\n",
       "      <td>0.075940</td>\n",
       "    </tr>\n",
       "    <tr>\n",
       "      <th>shifts</th>\n",
       "      <td>-0.229629</td>\n",
       "      <td>-0.047770</td>\n",
       "      <td>0.948895</td>\n",
       "      <td>0.989425</td>\n",
       "      <td>1.000000</td>\n",
       "      <td>0.754114</td>\n",
       "      <td>0.228030</td>\n",
       "      <td>0.013987</td>\n",
       "      <td>0.219116</td>\n",
       "      <td>-0.006615</td>\n",
       "      <td>...</td>\n",
       "      <td>0.852845</td>\n",
       "      <td>0.859059</td>\n",
       "      <td>0.872850</td>\n",
       "      <td>NaN</td>\n",
       "      <td>NaN</td>\n",
       "      <td>NaN</td>\n",
       "      <td>NaN</td>\n",
       "      <td>NaN</td>\n",
       "      <td>NaN</td>\n",
       "      <td>0.059035</td>\n",
       "    </tr>\n",
       "    <tr>\n",
       "      <th>...</th>\n",
       "      <td>...</td>\n",
       "      <td>...</td>\n",
       "      <td>...</td>\n",
       "      <td>...</td>\n",
       "      <td>...</td>\n",
       "      <td>...</td>\n",
       "      <td>...</td>\n",
       "      <td>...</td>\n",
       "      <td>...</td>\n",
       "      <td>...</td>\n",
       "      <td>...</td>\n",
       "      <td>...</td>\n",
       "      <td>...</td>\n",
       "      <td>...</td>\n",
       "      <td>...</td>\n",
       "      <td>...</td>\n",
       "      <td>...</td>\n",
       "      <td>...</td>\n",
       "      <td>...</td>\n",
       "      <td>...</td>\n",
       "      <td>...</td>\n",
       "    </tr>\n",
       "    <tr>\n",
       "      <th>corsiForAfterShifts</th>\n",
       "      <td>NaN</td>\n",
       "      <td>NaN</td>\n",
       "      <td>NaN</td>\n",
       "      <td>NaN</td>\n",
       "      <td>NaN</td>\n",
       "      <td>NaN</td>\n",
       "      <td>NaN</td>\n",
       "      <td>NaN</td>\n",
       "      <td>NaN</td>\n",
       "      <td>NaN</td>\n",
       "      <td>...</td>\n",
       "      <td>NaN</td>\n",
       "      <td>NaN</td>\n",
       "      <td>NaN</td>\n",
       "      <td>NaN</td>\n",
       "      <td>NaN</td>\n",
       "      <td>NaN</td>\n",
       "      <td>NaN</td>\n",
       "      <td>NaN</td>\n",
       "      <td>NaN</td>\n",
       "      <td>NaN</td>\n",
       "    </tr>\n",
       "    <tr>\n",
       "      <th>corsiAgainstAfterShifts</th>\n",
       "      <td>NaN</td>\n",
       "      <td>NaN</td>\n",
       "      <td>NaN</td>\n",
       "      <td>NaN</td>\n",
       "      <td>NaN</td>\n",
       "      <td>NaN</td>\n",
       "      <td>NaN</td>\n",
       "      <td>NaN</td>\n",
       "      <td>NaN</td>\n",
       "      <td>NaN</td>\n",
       "      <td>...</td>\n",
       "      <td>NaN</td>\n",
       "      <td>NaN</td>\n",
       "      <td>NaN</td>\n",
       "      <td>NaN</td>\n",
       "      <td>NaN</td>\n",
       "      <td>NaN</td>\n",
       "      <td>NaN</td>\n",
       "      <td>NaN</td>\n",
       "      <td>NaN</td>\n",
       "      <td>NaN</td>\n",
       "    </tr>\n",
       "    <tr>\n",
       "      <th>fenwickForAfterShifts</th>\n",
       "      <td>NaN</td>\n",
       "      <td>NaN</td>\n",
       "      <td>NaN</td>\n",
       "      <td>NaN</td>\n",
       "      <td>NaN</td>\n",
       "      <td>NaN</td>\n",
       "      <td>NaN</td>\n",
       "      <td>NaN</td>\n",
       "      <td>NaN</td>\n",
       "      <td>NaN</td>\n",
       "      <td>...</td>\n",
       "      <td>NaN</td>\n",
       "      <td>NaN</td>\n",
       "      <td>NaN</td>\n",
       "      <td>NaN</td>\n",
       "      <td>NaN</td>\n",
       "      <td>NaN</td>\n",
       "      <td>NaN</td>\n",
       "      <td>NaN</td>\n",
       "      <td>NaN</td>\n",
       "      <td>NaN</td>\n",
       "    </tr>\n",
       "    <tr>\n",
       "      <th>fenwickAgainstAfterShifts</th>\n",
       "      <td>NaN</td>\n",
       "      <td>NaN</td>\n",
       "      <td>NaN</td>\n",
       "      <td>NaN</td>\n",
       "      <td>NaN</td>\n",
       "      <td>NaN</td>\n",
       "      <td>NaN</td>\n",
       "      <td>NaN</td>\n",
       "      <td>NaN</td>\n",
       "      <td>NaN</td>\n",
       "      <td>...</td>\n",
       "      <td>NaN</td>\n",
       "      <td>NaN</td>\n",
       "      <td>NaN</td>\n",
       "      <td>NaN</td>\n",
       "      <td>NaN</td>\n",
       "      <td>NaN</td>\n",
       "      <td>NaN</td>\n",
       "      <td>NaN</td>\n",
       "      <td>NaN</td>\n",
       "      <td>NaN</td>\n",
       "    </tr>\n",
       "    <tr>\n",
       "      <th>HART</th>\n",
       "      <td>0.000342</td>\n",
       "      <td>-0.002133</td>\n",
       "      <td>0.052184</td>\n",
       "      <td>0.075940</td>\n",
       "      <td>0.059035</td>\n",
       "      <td>0.188654</td>\n",
       "      <td>0.072801</td>\n",
       "      <td>-0.045166</td>\n",
       "      <td>0.070205</td>\n",
       "      <td>-0.053150</td>\n",
       "      <td>...</td>\n",
       "      <td>0.039457</td>\n",
       "      <td>0.025466</td>\n",
       "      <td>0.046098</td>\n",
       "      <td>NaN</td>\n",
       "      <td>NaN</td>\n",
       "      <td>NaN</td>\n",
       "      <td>NaN</td>\n",
       "      <td>NaN</td>\n",
       "      <td>NaN</td>\n",
       "      <td>1.000000</td>\n",
       "    </tr>\n",
       "  </tbody>\n",
       "</table>\n",
       "<p>151 rows × 151 columns</p>\n",
       "</div>"
      ],
      "text/plain": [
       "                           playerId    season  games_played   icetime  \\\n",
       "playerId                   1.000000  0.642117     -0.228614 -0.218406   \n",
       "season                     0.642117  1.000000     -0.043302 -0.036617   \n",
       "games_played              -0.228614 -0.043302      1.000000  0.925224   \n",
       "icetime                   -0.218406 -0.036617      0.925224  1.000000   \n",
       "shifts                    -0.229629 -0.047770      0.948895  0.989425   \n",
       "...                             ...       ...           ...       ...   \n",
       "corsiForAfterShifts             NaN       NaN           NaN       NaN   \n",
       "corsiAgainstAfterShifts         NaN       NaN           NaN       NaN   \n",
       "fenwickForAfterShifts           NaN       NaN           NaN       NaN   \n",
       "fenwickAgainstAfterShifts       NaN       NaN           NaN       NaN   \n",
       "HART                       0.000342 -0.002133      0.052184  0.075940   \n",
       "\n",
       "                             shifts  gameScore  onIce_xGoalsPercentage  \\\n",
       "playerId                  -0.229629  -0.119377               -0.006611   \n",
       "season                    -0.047770  -0.000896               -0.022058   \n",
       "games_played               0.948895   0.716996                0.220257   \n",
       "icetime                    0.989425   0.781982                0.253112   \n",
       "shifts                     1.000000   0.754114                0.228030   \n",
       "...                             ...        ...                     ...   \n",
       "corsiForAfterShifts             NaN        NaN                     NaN   \n",
       "corsiAgainstAfterShifts         NaN        NaN                     NaN   \n",
       "fenwickForAfterShifts           NaN        NaN                     NaN   \n",
       "fenwickAgainstAfterShifts       NaN        NaN                     NaN   \n",
       "HART                       0.059035   0.188654                0.072801   \n",
       "\n",
       "                           offIce_xGoalsPercentage  onIce_corsiPercentage  \\\n",
       "playerId                                 -0.040749               0.005419   \n",
       "season                                    0.011523              -0.013412   \n",
       "games_played                              0.027963               0.205423   \n",
       "icetime                                  -0.012230               0.249209   \n",
       "shifts                                    0.013987               0.219116   \n",
       "...                                            ...                    ...   \n",
       "corsiForAfterShifts                            NaN                    NaN   \n",
       "corsiAgainstAfterShifts                        NaN                    NaN   \n",
       "fenwickForAfterShifts                          NaN                    NaN   \n",
       "fenwickAgainstAfterShifts                      NaN                    NaN   \n",
       "HART                                     -0.045166               0.070205   \n",
       "\n",
       "                           offIce_corsiPercentage  ...  OffIce_A_xGoals  \\\n",
       "playerId                                -0.043986  ...        -0.172110   \n",
       "season                                   0.014233  ...         0.005887   \n",
       "games_played                             0.002266  ...         0.962557   \n",
       "icetime                                 -0.037710  ...         0.818363   \n",
       "shifts                                  -0.006615  ...         0.852845   \n",
       "...                                           ...  ...              ...   \n",
       "corsiForAfterShifts                           NaN  ...              NaN   \n",
       "corsiAgainstAfterShifts                       NaN  ...              NaN   \n",
       "fenwickForAfterShifts                         NaN  ...              NaN   \n",
       "fenwickAgainstAfterShifts                     NaN  ...              NaN   \n",
       "HART                                    -0.053150  ...         0.039457   \n",
       "\n",
       "                           OffIce_F_shotAttempts  OffIce_A_shotAttempts  \\\n",
       "playerId                               -0.212770              -0.202717   \n",
       "season                                 -0.031411              -0.033607   \n",
       "games_played                            0.963994               0.975147   \n",
       "icetime                                 0.814011               0.839403   \n",
       "shifts                                  0.859059               0.872850   \n",
       "...                                          ...                    ...   \n",
       "corsiForAfterShifts                          NaN                    NaN   \n",
       "corsiAgainstAfterShifts                      NaN                    NaN   \n",
       "fenwickForAfterShifts                        NaN                    NaN   \n",
       "fenwickAgainstAfterShifts                    NaN                    NaN   \n",
       "HART                                    0.025466               0.046098   \n",
       "\n",
       "                           xGoalsForAfterShifts  xGoalsAgainstAfterShifts  \\\n",
       "playerId                                    NaN                       NaN   \n",
       "season                                      NaN                       NaN   \n",
       "games_played                                NaN                       NaN   \n",
       "icetime                                     NaN                       NaN   \n",
       "shifts                                      NaN                       NaN   \n",
       "...                                         ...                       ...   \n",
       "corsiForAfterShifts                         NaN                       NaN   \n",
       "corsiAgainstAfterShifts                     NaN                       NaN   \n",
       "fenwickForAfterShifts                       NaN                       NaN   \n",
       "fenwickAgainstAfterShifts                   NaN                       NaN   \n",
       "HART                                        NaN                       NaN   \n",
       "\n",
       "                           corsiForAfterShifts  corsiAgainstAfterShifts  \\\n",
       "playerId                                   NaN                      NaN   \n",
       "season                                     NaN                      NaN   \n",
       "games_played                               NaN                      NaN   \n",
       "icetime                                    NaN                      NaN   \n",
       "shifts                                     NaN                      NaN   \n",
       "...                                        ...                      ...   \n",
       "corsiForAfterShifts                        NaN                      NaN   \n",
       "corsiAgainstAfterShifts                    NaN                      NaN   \n",
       "fenwickForAfterShifts                      NaN                      NaN   \n",
       "fenwickAgainstAfterShifts                  NaN                      NaN   \n",
       "HART                                       NaN                      NaN   \n",
       "\n",
       "                           fenwickForAfterShifts  fenwickAgainstAfterShifts  \\\n",
       "playerId                                     NaN                        NaN   \n",
       "season                                       NaN                        NaN   \n",
       "games_played                                 NaN                        NaN   \n",
       "icetime                                      NaN                        NaN   \n",
       "shifts                                       NaN                        NaN   \n",
       "...                                          ...                        ...   \n",
       "corsiForAfterShifts                          NaN                        NaN   \n",
       "corsiAgainstAfterShifts                      NaN                        NaN   \n",
       "fenwickForAfterShifts                        NaN                        NaN   \n",
       "fenwickAgainstAfterShifts                    NaN                        NaN   \n",
       "HART                                         NaN                        NaN   \n",
       "\n",
       "                               HART  \n",
       "playerId                   0.000342  \n",
       "season                    -0.002133  \n",
       "games_played               0.052184  \n",
       "icetime                    0.075940  \n",
       "shifts                     0.059035  \n",
       "...                             ...  \n",
       "corsiForAfterShifts             NaN  \n",
       "corsiAgainstAfterShifts         NaN  \n",
       "fenwickForAfterShifts           NaN  \n",
       "fenwickAgainstAfterShifts       NaN  \n",
       "HART                       1.000000  \n",
       "\n",
       "[151 rows x 151 columns]"
      ]
     },
     "execution_count": 5,
     "metadata": {},
     "output_type": "execute_result"
    }
   ],
   "source": [
    "matrix"
   ]
  },
  {
   "cell_type": "code",
   "execution_count": 8,
   "id": "6256e067",
   "metadata": {},
   "outputs": [],
   "source": [
    "null_values = df2.isnull().sum()"
   ]
  },
  {
   "cell_type": "code",
   "execution_count": 9,
   "id": "007c4179",
   "metadata": {},
   "outputs": [
    {
     "data": {
      "text/plain": [
       "playerId                     0\n",
       "season                       0\n",
       "name                         0\n",
       "team                         0\n",
       "position                     0\n",
       "                            ..\n",
       "corsiForAfterShifts          0\n",
       "corsiAgainstAfterShifts      0\n",
       "fenwickForAfterShifts        0\n",
       "fenwickAgainstAfterShifts    0\n",
       "HART                         0\n",
       "Length: 155, dtype: int64"
      ]
     },
     "execution_count": 9,
     "metadata": {},
     "output_type": "execute_result"
    }
   ],
   "source": [
    "null_values"
   ]
  },
  {
   "cell_type": "code",
   "execution_count": 59,
   "id": "665ac498",
   "metadata": {},
   "outputs": [],
   "source": [
    "pd.set_option('display.max_columns', None)\n",
    "pd.set_option(\"max_rows\", 200)"
   ]
  },
  {
   "cell_type": "code",
   "execution_count": 8,
   "id": "5b08f763",
   "metadata": {},
   "outputs": [],
   "source": [
    "df3 = df2.drop([\"playerId\", \"season\", \"name\", \"team\", \"situation\", \"games_played\"], axis=1)"
   ]
  },
  {
   "cell_type": "code",
   "execution_count": 9,
   "id": "0becadd4",
   "metadata": {},
   "outputs": [],
   "source": [
    "#encode categorical variables\n",
    "\n",
    "df4 = pd.get_dummies(df3, columns=[\"position\"], drop_first=\"true\")"
   ]
  },
  {
   "cell_type": "code",
   "execution_count": 10,
   "id": "217ad862",
   "metadata": {},
   "outputs": [],
   "source": [
    "#split into target and features\n",
    "X = df4.drop(\"HART\", axis=1)\n",
    "y = df4[\"HART\"]"
   ]
  },
  {
   "cell_type": "code",
   "execution_count": 11,
   "id": "2fb06b51",
   "metadata": {},
   "outputs": [],
   "source": [
    "from sklearn.model_selection import train_test_split\n",
    "\n",
    "\n",
    "#split into testing and training set\n",
    "X_train, X_test, y_train, y_test = train_test_split(X, y, \n",
    "                                                    test_size=0.25,\n",
    "                                                    random_state=0)"
   ]
  },
  {
   "cell_type": "code",
   "execution_count": 12,
   "id": "c3e5d9f1",
   "metadata": {},
   "outputs": [],
   "source": [
    "#split into numerical and categorical data\n",
    "\n",
    "train_cat = X_train[[\"position_D\", \"position_L\", \"position_R\"]]\n",
    "train_num = X_train.drop([\"position_D\", \"position_L\", \"position_R\"], axis=1)"
   ]
  },
  {
   "cell_type": "code",
   "execution_count": 13,
   "id": "76301738",
   "metadata": {},
   "outputs": [],
   "source": [
    "#oversample data\n",
    "\n",
    "from imblearn.over_sampling import RandomOverSampler\n",
    "ros = RandomOverSampler(random_state=0)\n",
    "ros.fit(X_train, y_train)\n",
    "X_resampled, y_resampled = ros.fit_resample(X_train, y_train)"
   ]
  },
  {
   "cell_type": "code",
   "execution_count": 14,
   "id": "7824fda5",
   "metadata": {},
   "outputs": [],
   "source": [
    "X_train = X_resampled\n",
    "y_train = y_resampled"
   ]
  },
  {
   "cell_type": "code",
   "execution_count": 15,
   "id": "abdfaa47",
   "metadata": {},
   "outputs": [
    {
     "data": {
      "text/plain": [
       "(17432,)"
      ]
     },
     "execution_count": 15,
     "metadata": {},
     "output_type": "execute_result"
    }
   ],
   "source": [
    "y_resampled.shape"
   ]
  },
  {
   "cell_type": "code",
   "execution_count": 16,
   "id": "1f92286d",
   "metadata": {},
   "outputs": [],
   "source": [
    "#scale features\n",
    "\n",
    "from sklearn.preprocessing import StandardScaler\n",
    "\n",
    "scaler = StandardScaler()\n",
    "\n",
    "X_train = scaler.fit_transform(X_train)\n",
    "\n",
    "X_test = scaler.transform(X_test)"
   ]
  },
  {
   "cell_type": "code",
   "execution_count": 17,
   "id": "98b78e18",
   "metadata": {},
   "outputs": [
    {
     "data": {
      "text/html": [
       "<style>#sk-container-id-1 {color: black;background-color: white;}#sk-container-id-1 pre{padding: 0;}#sk-container-id-1 div.sk-toggleable {background-color: white;}#sk-container-id-1 label.sk-toggleable__label {cursor: pointer;display: block;width: 100%;margin-bottom: 0;padding: 0.3em;box-sizing: border-box;text-align: center;}#sk-container-id-1 label.sk-toggleable__label-arrow:before {content: \"▸\";float: left;margin-right: 0.25em;color: #696969;}#sk-container-id-1 label.sk-toggleable__label-arrow:hover:before {color: black;}#sk-container-id-1 div.sk-estimator:hover label.sk-toggleable__label-arrow:before {color: black;}#sk-container-id-1 div.sk-toggleable__content {max-height: 0;max-width: 0;overflow: hidden;text-align: left;background-color: #f0f8ff;}#sk-container-id-1 div.sk-toggleable__content pre {margin: 0.2em;color: black;border-radius: 0.25em;background-color: #f0f8ff;}#sk-container-id-1 input.sk-toggleable__control:checked~div.sk-toggleable__content {max-height: 200px;max-width: 100%;overflow: auto;}#sk-container-id-1 input.sk-toggleable__control:checked~label.sk-toggleable__label-arrow:before {content: \"▾\";}#sk-container-id-1 div.sk-estimator input.sk-toggleable__control:checked~label.sk-toggleable__label {background-color: #d4ebff;}#sk-container-id-1 div.sk-label input.sk-toggleable__control:checked~label.sk-toggleable__label {background-color: #d4ebff;}#sk-container-id-1 input.sk-hidden--visually {border: 0;clip: rect(1px 1px 1px 1px);clip: rect(1px, 1px, 1px, 1px);height: 1px;margin: -1px;overflow: hidden;padding: 0;position: absolute;width: 1px;}#sk-container-id-1 div.sk-estimator {font-family: monospace;background-color: #f0f8ff;border: 1px dotted black;border-radius: 0.25em;box-sizing: border-box;margin-bottom: 0.5em;}#sk-container-id-1 div.sk-estimator:hover {background-color: #d4ebff;}#sk-container-id-1 div.sk-parallel-item::after {content: \"\";width: 100%;border-bottom: 1px solid gray;flex-grow: 1;}#sk-container-id-1 div.sk-label:hover label.sk-toggleable__label {background-color: #d4ebff;}#sk-container-id-1 div.sk-serial::before {content: \"\";position: absolute;border-left: 1px solid gray;box-sizing: border-box;top: 0;bottom: 0;left: 50%;z-index: 0;}#sk-container-id-1 div.sk-serial {display: flex;flex-direction: column;align-items: center;background-color: white;padding-right: 0.2em;padding-left: 0.2em;position: relative;}#sk-container-id-1 div.sk-item {position: relative;z-index: 1;}#sk-container-id-1 div.sk-parallel {display: flex;align-items: stretch;justify-content: center;background-color: white;position: relative;}#sk-container-id-1 div.sk-item::before, #sk-container-id-1 div.sk-parallel-item::before {content: \"\";position: absolute;border-left: 1px solid gray;box-sizing: border-box;top: 0;bottom: 0;left: 50%;z-index: -1;}#sk-container-id-1 div.sk-parallel-item {display: flex;flex-direction: column;z-index: 1;position: relative;background-color: white;}#sk-container-id-1 div.sk-parallel-item:first-child::after {align-self: flex-end;width: 50%;}#sk-container-id-1 div.sk-parallel-item:last-child::after {align-self: flex-start;width: 50%;}#sk-container-id-1 div.sk-parallel-item:only-child::after {width: 0;}#sk-container-id-1 div.sk-dashed-wrapped {border: 1px dashed gray;margin: 0 0.4em 0.5em 0.4em;box-sizing: border-box;padding-bottom: 0.4em;background-color: white;}#sk-container-id-1 div.sk-label label {font-family: monospace;font-weight: bold;display: inline-block;line-height: 1.2em;}#sk-container-id-1 div.sk-label-container {text-align: center;}#sk-container-id-1 div.sk-container {/* jupyter's `normalize.less` sets `[hidden] { display: none; }` but bootstrap.min.css set `[hidden] { display: none !important; }` so we also need the `!important` here to be able to override the default hidden behavior on the sphinx rendered scikit-learn.org. See: https://github.com/scikit-learn/scikit-learn/issues/21755 */display: inline-block !important;position: relative;}#sk-container-id-1 div.sk-text-repr-fallback {display: none;}</style><div id=\"sk-container-id-1\" class=\"sk-top-container\"><div class=\"sk-text-repr-fallback\"><pre>LogisticRegression(random_state=0, solver=&#x27;liblinear&#x27;)</pre><b>In a Jupyter environment, please rerun this cell to show the HTML representation or trust the notebook. <br />On GitHub, the HTML representation is unable to render, please try loading this page with nbviewer.org.</b></div><div class=\"sk-container\" hidden><div class=\"sk-item\"><div class=\"sk-estimator sk-toggleable\"><input class=\"sk-toggleable__control sk-hidden--visually\" id=\"sk-estimator-id-1\" type=\"checkbox\" checked><label for=\"sk-estimator-id-1\" class=\"sk-toggleable__label sk-toggleable__label-arrow\">LogisticRegression</label><div class=\"sk-toggleable__content\"><pre>LogisticRegression(random_state=0, solver=&#x27;liblinear&#x27;)</pre></div></div></div></div></div>"
      ],
      "text/plain": [
       "LogisticRegression(random_state=0, solver='liblinear')"
      ]
     },
     "execution_count": 17,
     "metadata": {},
     "output_type": "execute_result"
    }
   ],
   "source": [
    "# train a logistic regression model on the training set\n",
    "from sklearn.linear_model import LogisticRegression\n",
    "\n",
    "\n",
    "# instantiate the model\n",
    "logreg = LogisticRegression(solver='liblinear', random_state=0)\n",
    "\n",
    "\n",
    "# fit the model\n",
    "logreg.fit(X_train, y_train)"
   ]
  },
  {
   "cell_type": "code",
   "execution_count": 18,
   "id": "115b15fe",
   "metadata": {},
   "outputs": [
    {
     "data": {
      "text/plain": [
       "array([0., 0., 0., ..., 0., 0., 0.])"
      ]
     },
     "execution_count": 18,
     "metadata": {},
     "output_type": "execute_result"
    }
   ],
   "source": [
    "y_pred_test = logreg.predict(X_test)\n",
    "\n",
    "y_pred_test"
   ]
  },
  {
   "cell_type": "code",
   "execution_count": 19,
   "id": "a127b34b",
   "metadata": {},
   "outputs": [
    {
     "name": "stdout",
     "output_type": "stream",
     "text": [
      "Model accuracy score: 0.9952\n"
     ]
    }
   ],
   "source": [
    "from sklearn.metrics import accuracy_score\n",
    "\n",
    "print('Model accuracy score: {0:0.4f}'. format(accuracy_score(y_test, y_pred_test)))"
   ]
  },
  {
   "cell_type": "code",
   "execution_count": 20,
   "id": "3148cf3f",
   "metadata": {},
   "outputs": [
    {
     "data": {
      "text/plain": [
       "array([0., 0., 0., ..., 1., 1., 1.])"
      ]
     },
     "execution_count": 20,
     "metadata": {},
     "output_type": "execute_result"
    }
   ],
   "source": [
    "y_pred_train = logreg.predict(X_train)\n",
    "\n",
    "y_pred_train"
   ]
  },
  {
   "cell_type": "code",
   "execution_count": 21,
   "id": "8137148b",
   "metadata": {},
   "outputs": [
    {
     "name": "stdout",
     "output_type": "stream",
     "text": [
      "Training-set accuracy score: 0.9980\n"
     ]
    }
   ],
   "source": [
    "print('Training-set accuracy score: {0:0.4f}'. format(accuracy_score(y_train, y_pred_train)))"
   ]
  },
  {
   "cell_type": "code",
   "execution_count": 22,
   "id": "096fff2a",
   "metadata": {},
   "outputs": [
    {
     "name": "stdout",
     "output_type": "stream",
     "text": [
      "Training set score: 0.9980\n",
      "Test set score: 0.9952\n"
     ]
    }
   ],
   "source": [
    "# print the scores on training and test set\n",
    "\n",
    "print('Training set score: {:.4f}'.format(logreg.score(X_train, y_train)))\n",
    "\n",
    "print('Test set score: {:.4f}'.format(logreg.score(X_test, y_test)))"
   ]
  },
  {
   "cell_type": "code",
   "execution_count": 23,
   "id": "154cfcf3",
   "metadata": {},
   "outputs": [
    {
     "data": {
      "text/html": [
       "<style>#sk-container-id-2 {color: black;background-color: white;}#sk-container-id-2 pre{padding: 0;}#sk-container-id-2 div.sk-toggleable {background-color: white;}#sk-container-id-2 label.sk-toggleable__label {cursor: pointer;display: block;width: 100%;margin-bottom: 0;padding: 0.3em;box-sizing: border-box;text-align: center;}#sk-container-id-2 label.sk-toggleable__label-arrow:before {content: \"▸\";float: left;margin-right: 0.25em;color: #696969;}#sk-container-id-2 label.sk-toggleable__label-arrow:hover:before {color: black;}#sk-container-id-2 div.sk-estimator:hover label.sk-toggleable__label-arrow:before {color: black;}#sk-container-id-2 div.sk-toggleable__content {max-height: 0;max-width: 0;overflow: hidden;text-align: left;background-color: #f0f8ff;}#sk-container-id-2 div.sk-toggleable__content pre {margin: 0.2em;color: black;border-radius: 0.25em;background-color: #f0f8ff;}#sk-container-id-2 input.sk-toggleable__control:checked~div.sk-toggleable__content {max-height: 200px;max-width: 100%;overflow: auto;}#sk-container-id-2 input.sk-toggleable__control:checked~label.sk-toggleable__label-arrow:before {content: \"▾\";}#sk-container-id-2 div.sk-estimator input.sk-toggleable__control:checked~label.sk-toggleable__label {background-color: #d4ebff;}#sk-container-id-2 div.sk-label input.sk-toggleable__control:checked~label.sk-toggleable__label {background-color: #d4ebff;}#sk-container-id-2 input.sk-hidden--visually {border: 0;clip: rect(1px 1px 1px 1px);clip: rect(1px, 1px, 1px, 1px);height: 1px;margin: -1px;overflow: hidden;padding: 0;position: absolute;width: 1px;}#sk-container-id-2 div.sk-estimator {font-family: monospace;background-color: #f0f8ff;border: 1px dotted black;border-radius: 0.25em;box-sizing: border-box;margin-bottom: 0.5em;}#sk-container-id-2 div.sk-estimator:hover {background-color: #d4ebff;}#sk-container-id-2 div.sk-parallel-item::after {content: \"\";width: 100%;border-bottom: 1px solid gray;flex-grow: 1;}#sk-container-id-2 div.sk-label:hover label.sk-toggleable__label {background-color: #d4ebff;}#sk-container-id-2 div.sk-serial::before {content: \"\";position: absolute;border-left: 1px solid gray;box-sizing: border-box;top: 0;bottom: 0;left: 50%;z-index: 0;}#sk-container-id-2 div.sk-serial {display: flex;flex-direction: column;align-items: center;background-color: white;padding-right: 0.2em;padding-left: 0.2em;position: relative;}#sk-container-id-2 div.sk-item {position: relative;z-index: 1;}#sk-container-id-2 div.sk-parallel {display: flex;align-items: stretch;justify-content: center;background-color: white;position: relative;}#sk-container-id-2 div.sk-item::before, #sk-container-id-2 div.sk-parallel-item::before {content: \"\";position: absolute;border-left: 1px solid gray;box-sizing: border-box;top: 0;bottom: 0;left: 50%;z-index: -1;}#sk-container-id-2 div.sk-parallel-item {display: flex;flex-direction: column;z-index: 1;position: relative;background-color: white;}#sk-container-id-2 div.sk-parallel-item:first-child::after {align-self: flex-end;width: 50%;}#sk-container-id-2 div.sk-parallel-item:last-child::after {align-self: flex-start;width: 50%;}#sk-container-id-2 div.sk-parallel-item:only-child::after {width: 0;}#sk-container-id-2 div.sk-dashed-wrapped {border: 1px dashed gray;margin: 0 0.4em 0.5em 0.4em;box-sizing: border-box;padding-bottom: 0.4em;background-color: white;}#sk-container-id-2 div.sk-label label {font-family: monospace;font-weight: bold;display: inline-block;line-height: 1.2em;}#sk-container-id-2 div.sk-label-container {text-align: center;}#sk-container-id-2 div.sk-container {/* jupyter's `normalize.less` sets `[hidden] { display: none; }` but bootstrap.min.css set `[hidden] { display: none !important; }` so we also need the `!important` here to be able to override the default hidden behavior on the sphinx rendered scikit-learn.org. See: https://github.com/scikit-learn/scikit-learn/issues/21755 */display: inline-block !important;position: relative;}#sk-container-id-2 div.sk-text-repr-fallback {display: none;}</style><div id=\"sk-container-id-2\" class=\"sk-top-container\"><div class=\"sk-text-repr-fallback\"><pre>LogisticRegression(C=100, random_state=0, solver=&#x27;liblinear&#x27;)</pre><b>In a Jupyter environment, please rerun this cell to show the HTML representation or trust the notebook. <br />On GitHub, the HTML representation is unable to render, please try loading this page with nbviewer.org.</b></div><div class=\"sk-container\" hidden><div class=\"sk-item\"><div class=\"sk-estimator sk-toggleable\"><input class=\"sk-toggleable__control sk-hidden--visually\" id=\"sk-estimator-id-2\" type=\"checkbox\" checked><label for=\"sk-estimator-id-2\" class=\"sk-toggleable__label sk-toggleable__label-arrow\">LogisticRegression</label><div class=\"sk-toggleable__content\"><pre>LogisticRegression(C=100, random_state=0, solver=&#x27;liblinear&#x27;)</pre></div></div></div></div></div>"
      ],
      "text/plain": [
       "LogisticRegression(C=100, random_state=0, solver='liblinear')"
      ]
     },
     "execution_count": 23,
     "metadata": {},
     "output_type": "execute_result"
    }
   ],
   "source": [
    "# fit the Logsitic Regression model with C=100\n",
    "\n",
    "# instantiate the model\n",
    "logreg100 = LogisticRegression(C=100, solver='liblinear', random_state=0)\n",
    "\n",
    "\n",
    "# fit the model\n",
    "logreg100.fit(X_train, y_train)"
   ]
  },
  {
   "cell_type": "code",
   "execution_count": 24,
   "id": "94c5a93b",
   "metadata": {},
   "outputs": [
    {
     "name": "stdout",
     "output_type": "stream",
     "text": [
      "Training set score: 0.9999\n",
      "Test set score: 0.9949\n"
     ]
    }
   ],
   "source": [
    "# print the scores on training and test set\n",
    "\n",
    "print('Training set score: {:.4f}'.format(logreg100.score(X_train, y_train)))\n",
    "\n",
    "print('Test set score: {:.4f}'.format(logreg100.score(X_test, y_test)))"
   ]
  },
  {
   "cell_type": "code",
   "execution_count": 25,
   "id": "1cb2951b",
   "metadata": {},
   "outputs": [
    {
     "data": {
      "text/html": [
       "<style>#sk-container-id-3 {color: black;background-color: white;}#sk-container-id-3 pre{padding: 0;}#sk-container-id-3 div.sk-toggleable {background-color: white;}#sk-container-id-3 label.sk-toggleable__label {cursor: pointer;display: block;width: 100%;margin-bottom: 0;padding: 0.3em;box-sizing: border-box;text-align: center;}#sk-container-id-3 label.sk-toggleable__label-arrow:before {content: \"▸\";float: left;margin-right: 0.25em;color: #696969;}#sk-container-id-3 label.sk-toggleable__label-arrow:hover:before {color: black;}#sk-container-id-3 div.sk-estimator:hover label.sk-toggleable__label-arrow:before {color: black;}#sk-container-id-3 div.sk-toggleable__content {max-height: 0;max-width: 0;overflow: hidden;text-align: left;background-color: #f0f8ff;}#sk-container-id-3 div.sk-toggleable__content pre {margin: 0.2em;color: black;border-radius: 0.25em;background-color: #f0f8ff;}#sk-container-id-3 input.sk-toggleable__control:checked~div.sk-toggleable__content {max-height: 200px;max-width: 100%;overflow: auto;}#sk-container-id-3 input.sk-toggleable__control:checked~label.sk-toggleable__label-arrow:before {content: \"▾\";}#sk-container-id-3 div.sk-estimator input.sk-toggleable__control:checked~label.sk-toggleable__label {background-color: #d4ebff;}#sk-container-id-3 div.sk-label input.sk-toggleable__control:checked~label.sk-toggleable__label {background-color: #d4ebff;}#sk-container-id-3 input.sk-hidden--visually {border: 0;clip: rect(1px 1px 1px 1px);clip: rect(1px, 1px, 1px, 1px);height: 1px;margin: -1px;overflow: hidden;padding: 0;position: absolute;width: 1px;}#sk-container-id-3 div.sk-estimator {font-family: monospace;background-color: #f0f8ff;border: 1px dotted black;border-radius: 0.25em;box-sizing: border-box;margin-bottom: 0.5em;}#sk-container-id-3 div.sk-estimator:hover {background-color: #d4ebff;}#sk-container-id-3 div.sk-parallel-item::after {content: \"\";width: 100%;border-bottom: 1px solid gray;flex-grow: 1;}#sk-container-id-3 div.sk-label:hover label.sk-toggleable__label {background-color: #d4ebff;}#sk-container-id-3 div.sk-serial::before {content: \"\";position: absolute;border-left: 1px solid gray;box-sizing: border-box;top: 0;bottom: 0;left: 50%;z-index: 0;}#sk-container-id-3 div.sk-serial {display: flex;flex-direction: column;align-items: center;background-color: white;padding-right: 0.2em;padding-left: 0.2em;position: relative;}#sk-container-id-3 div.sk-item {position: relative;z-index: 1;}#sk-container-id-3 div.sk-parallel {display: flex;align-items: stretch;justify-content: center;background-color: white;position: relative;}#sk-container-id-3 div.sk-item::before, #sk-container-id-3 div.sk-parallel-item::before {content: \"\";position: absolute;border-left: 1px solid gray;box-sizing: border-box;top: 0;bottom: 0;left: 50%;z-index: -1;}#sk-container-id-3 div.sk-parallel-item {display: flex;flex-direction: column;z-index: 1;position: relative;background-color: white;}#sk-container-id-3 div.sk-parallel-item:first-child::after {align-self: flex-end;width: 50%;}#sk-container-id-3 div.sk-parallel-item:last-child::after {align-self: flex-start;width: 50%;}#sk-container-id-3 div.sk-parallel-item:only-child::after {width: 0;}#sk-container-id-3 div.sk-dashed-wrapped {border: 1px dashed gray;margin: 0 0.4em 0.5em 0.4em;box-sizing: border-box;padding-bottom: 0.4em;background-color: white;}#sk-container-id-3 div.sk-label label {font-family: monospace;font-weight: bold;display: inline-block;line-height: 1.2em;}#sk-container-id-3 div.sk-label-container {text-align: center;}#sk-container-id-3 div.sk-container {/* jupyter's `normalize.less` sets `[hidden] { display: none; }` but bootstrap.min.css set `[hidden] { display: none !important; }` so we also need the `!important` here to be able to override the default hidden behavior on the sphinx rendered scikit-learn.org. See: https://github.com/scikit-learn/scikit-learn/issues/21755 */display: inline-block !important;position: relative;}#sk-container-id-3 div.sk-text-repr-fallback {display: none;}</style><div id=\"sk-container-id-3\" class=\"sk-top-container\"><div class=\"sk-text-repr-fallback\"><pre>LogisticRegression(C=0.01, random_state=0, solver=&#x27;liblinear&#x27;)</pre><b>In a Jupyter environment, please rerun this cell to show the HTML representation or trust the notebook. <br />On GitHub, the HTML representation is unable to render, please try loading this page with nbviewer.org.</b></div><div class=\"sk-container\" hidden><div class=\"sk-item\"><div class=\"sk-estimator sk-toggleable\"><input class=\"sk-toggleable__control sk-hidden--visually\" id=\"sk-estimator-id-3\" type=\"checkbox\" checked><label for=\"sk-estimator-id-3\" class=\"sk-toggleable__label sk-toggleable__label-arrow\">LogisticRegression</label><div class=\"sk-toggleable__content\"><pre>LogisticRegression(C=0.01, random_state=0, solver=&#x27;liblinear&#x27;)</pre></div></div></div></div></div>"
      ],
      "text/plain": [
       "LogisticRegression(C=0.01, random_state=0, solver='liblinear')"
      ]
     },
     "execution_count": 25,
     "metadata": {},
     "output_type": "execute_result"
    }
   ],
   "source": [
    "# fit the Logsitic Regression model with C=001\n",
    "\n",
    "# instantiate the model\n",
    "logreg001 = LogisticRegression(C=0.01, solver='liblinear', random_state=0)\n",
    "\n",
    "\n",
    "# fit the model\n",
    "logreg001.fit(X_train, y_train)"
   ]
  },
  {
   "cell_type": "code",
   "execution_count": 26,
   "id": "ba295f11",
   "metadata": {},
   "outputs": [
    {
     "name": "stdout",
     "output_type": "stream",
     "text": [
      "Training set score: 0.9894\n",
      "Test set score: 0.9811\n"
     ]
    }
   ],
   "source": [
    "# print the scores on training and test set\n",
    "\n",
    "print('Training set score: {:.4f}'.format(logreg001.score(X_train, y_train)))\n",
    "\n",
    "print('Test set score: {:.4f}'.format(logreg001.score(X_test, y_test)))"
   ]
  },
  {
   "cell_type": "code",
   "execution_count": 27,
   "id": "bd3544e6",
   "metadata": {},
   "outputs": [
    {
     "data": {
      "text/plain": [
       "0.0    2906\n",
       "1.0       9\n",
       "Name: HART, dtype: int64"
      ]
     },
     "execution_count": 27,
     "metadata": {},
     "output_type": "execute_result"
    }
   ],
   "source": [
    "y_test.value_counts()"
   ]
  },
  {
   "cell_type": "code",
   "execution_count": 28,
   "id": "ad5252b1",
   "metadata": {},
   "outputs": [
    {
     "data": {
      "text/plain": [
       "0.9975969790593889"
      ]
     },
     "execution_count": 28,
     "metadata": {},
     "output_type": "execute_result"
    }
   ],
   "source": [
    "2906/2913"
   ]
  },
  {
   "cell_type": "code",
   "execution_count": 29,
   "id": "fc5c5d40",
   "metadata": {},
   "outputs": [
    {
     "data": {
      "text/plain": [
       "0.0    8716\n",
       "1.0    8716\n",
       "Name: HART, dtype: int64"
      ]
     },
     "execution_count": 29,
     "metadata": {},
     "output_type": "execute_result"
    }
   ],
   "source": [
    "y_train.value_counts()"
   ]
  },
  {
   "cell_type": "code",
   "execution_count": 30,
   "id": "5cb2bc0b",
   "metadata": {},
   "outputs": [
    {
     "name": "stdout",
     "output_type": "stream",
     "text": [
      "Confusion matrix\n",
      "\n",
      " [[2892   14]\n",
      " [   0    9]]\n",
      "\n",
      "True Positives(TP) =  2892\n",
      "\n",
      "True Negatives(TN) =  9\n",
      "\n",
      "False Positives(FP) =  14\n",
      "\n",
      "False Negatives(FN) =  0\n"
     ]
    }
   ],
   "source": [
    "from sklearn.metrics import confusion_matrix\n",
    "\n",
    "cm = confusion_matrix(y_test, y_pred_test)\n",
    "\n",
    "print('Confusion matrix\\n\\n', cm)\n",
    "\n",
    "print('\\nTrue Positives(TP) = ', cm[0,0])\n",
    "\n",
    "print('\\nTrue Negatives(TN) = ', cm[1,1])\n",
    "\n",
    "print('\\nFalse Positives(FP) = ', cm[0,1])\n",
    "\n",
    "print('\\nFalse Negatives(FN) = ', cm[1,0])"
   ]
  },
  {
   "cell_type": "code",
   "execution_count": 31,
   "id": "3315c2bd",
   "metadata": {},
   "outputs": [
    {
     "name": "stdout",
     "output_type": "stream",
     "text": [
      "              precision    recall  f1-score   support\n",
      "\n",
      "         0.0       1.00      1.00      1.00      2906\n",
      "         1.0       0.39      1.00      0.56         9\n",
      "\n",
      "    accuracy                           1.00      2915\n",
      "   macro avg       0.70      1.00      0.78      2915\n",
      "weighted avg       1.00      1.00      1.00      2915\n",
      "\n"
     ]
    }
   ],
   "source": [
    "from sklearn.metrics import classification_report\n",
    "\n",
    "print(classification_report(y_test, y_pred_test))"
   ]
  },
  {
   "cell_type": "code",
   "execution_count": 32,
   "id": "cb1eba19",
   "metadata": {},
   "outputs": [
    {
     "name": "stdout",
     "output_type": "stream",
     "text": [
      "Classification accuracy : 0.9952\n"
     ]
    }
   ],
   "source": [
    "# print classification accuracy\n",
    "TP = cm[0,0]\n",
    "TN = cm[1,1]\n",
    "FP = cm[0,1]\n",
    "FN = cm[1,0]\n",
    "\n",
    "classification_accuracy = (TP + TN) / float(TP + TN + FP + FN)\n",
    "\n",
    "print('Classification accuracy : {0:0.4f}'.format(classification_accuracy))"
   ]
  },
  {
   "cell_type": "code",
   "execution_count": 33,
   "id": "35c23585",
   "metadata": {},
   "outputs": [
    {
     "name": "stdout",
     "output_type": "stream",
     "text": [
      "Classification error : 0.0048\n"
     ]
    }
   ],
   "source": [
    "# print classification error\n",
    "\n",
    "classification_error = (FP + FN) / float(TP + TN + FP + FN)\n",
    "\n",
    "print('Classification error : {0:0.4f}'.format(classification_error))"
   ]
  },
  {
   "cell_type": "code",
   "execution_count": 34,
   "id": "bb5064dd",
   "metadata": {},
   "outputs": [
    {
     "name": "stdout",
     "output_type": "stream",
     "text": [
      "Precision : 0.9952\n"
     ]
    }
   ],
   "source": [
    "# print precision score\n",
    "\n",
    "precision = TP / float(TP + FP)\n",
    "\n",
    "\n",
    "print('Precision : {0:0.4f}'.format(precision))"
   ]
  },
  {
   "cell_type": "code",
   "execution_count": 35,
   "id": "20c8ac9c",
   "metadata": {},
   "outputs": [
    {
     "name": "stdout",
     "output_type": "stream",
     "text": [
      "Specificity : 0.3913\n"
     ]
    }
   ],
   "source": [
    "specificity = TN / (TN + FP)\n",
    "\n",
    "print('Specificity : {0:0.4f}'.format(specificity))"
   ]
  },
  {
   "cell_type": "code",
   "execution_count": 36,
   "id": "80d1e3da",
   "metadata": {},
   "outputs": [
    {
     "name": "stdout",
     "output_type": "stream",
     "text": [
      "False Positive Rate : 0.6087\n"
     ]
    }
   ],
   "source": [
    "false_positive_rate = FP / float(FP + TN)\n",
    "\n",
    "\n",
    "print('False Positive Rate : {0:0.4f}'.format(false_positive_rate))"
   ]
  },
  {
   "cell_type": "code",
   "execution_count": 37,
   "id": "10147db3",
   "metadata": {},
   "outputs": [
    {
     "name": "stdout",
     "output_type": "stream",
     "text": [
      "True Positive Rate : 1.0000\n"
     ]
    }
   ],
   "source": [
    "true_positive_rate = TP / float(TP + FN)\n",
    "\n",
    "\n",
    "print('True Positive Rate : {0:0.4f}'.format(true_positive_rate))"
   ]
  },
  {
   "cell_type": "code",
   "execution_count": 38,
   "id": "0cc6407a",
   "metadata": {},
   "outputs": [
    {
     "name": "stdout",
     "output_type": "stream",
     "text": [
      "Recall or Sensitivity : 1.0000\n"
     ]
    }
   ],
   "source": [
    "recall = TP / float(TP + FN)\n",
    "\n",
    "print('Recall or Sensitivity : {0:0.4f}'.format(recall))"
   ]
  },
  {
   "cell_type": "code",
   "execution_count": 39,
   "id": "fd4e84ef",
   "metadata": {},
   "outputs": [
    {
     "data": {
      "text/plain": [
       "array([0.98815748, 0.99996513, 1.        , ..., 1.        , 0.9999949 ,\n",
       "       0.9999734 ])"
      ]
     },
     "execution_count": 39,
     "metadata": {},
     "output_type": "execute_result"
    }
   ],
   "source": [
    "logreg.predict_proba(X_test)[:,0]"
   ]
  },
  {
   "cell_type": "code",
   "execution_count": 41,
   "id": "481f1f26",
   "metadata": {},
   "outputs": [],
   "source": [
    "ypred_prob = logreg.predict_proba(X_test)[:,1]"
   ]
  },
  {
   "cell_type": "code",
   "execution_count": 57,
   "id": "7bbfd688",
   "metadata": {},
   "outputs": [],
   "source": [
    "df = pd.DataFrame(ypred_prob, columns = [\"Probability\"])"
   ]
  },
  {
   "cell_type": "code",
   "execution_count": 45,
   "id": "b2e7c99b",
   "metadata": {},
   "outputs": [
    {
     "data": {
      "text/plain": [
       "Text(0, 0.5, 'Frequency')"
      ]
     },
     "execution_count": 45,
     "metadata": {},
     "output_type": "execute_result"
    },
    {
     "data": {
      "image/png": "[encoded data removed]",
      "text/plain": [
       "<Figure size 432x288 with 1 Axes>"
      ]
     },
     "metadata": {
      "needs_background": "light"
     },
     "output_type": "display_data"
    }
   ],
   "source": [
    "plt.hist(ypred_prob, bins=6)\n",
    "plt.xlim(0,1)\n",
    "plt.title('Predicted Probabilities')\n",
    "plt.xlabel('Predicted Probability of Hart Nomination')\n",
    "plt.ylabel('Frequency')"
   ]
  },
  {
   "cell_type": "code",
   "execution_count": 60,
   "id": "fff51f29",
   "metadata": {},
   "outputs": [
    {
     "data": {
      "text/html": [
       "<div>\n",
       "<style scoped>\n",
       "    .dataframe tbody tr th:only-of-type {\n",
       "        vertical-align: middle;\n",
       "    }\n",
       "\n",
       "    .dataframe tbody tr th {\n",
       "        vertical-align: top;\n",
       "    }\n",
       "\n",
       "    .dataframe thead th {\n",
       "        text-align: right;\n",
       "    }\n",
       "</style>\n",
       "<table border=\"1\" class=\"dataframe\">\n",
       "  <thead>\n",
       "    <tr style=\"text-align: right;\">\n",
       "      <th></th>\n",
       "      <th>Probability</th>\n",
       "    </tr>\n",
       "  </thead>\n",
       "  <tbody>\n",
       "    <tr>\n",
       "      <th>0</th>\n",
       "      <td>1.184252e-02</td>\n",
       "    </tr>\n",
       "    <tr>\n",
       "      <th>1</th>\n",
       "      <td>3.486507e-05</td>\n",
       "    </tr>\n",
       "    <tr>\n",
       "      <th>2</th>\n",
       "      <td>1.874192e-14</td>\n",
       "    </tr>\n",
       "    <tr>\n",
       "      <th>3</th>\n",
       "      <td>1.289375e-08</td>\n",
       "    </tr>\n",
       "    <tr>\n",
       "      <th>4</th>\n",
       "      <td>9.268315e-05</td>\n",
       "    </tr>\n",
       "    <tr>\n",
       "      <th>...</th>\n",
       "      <td>...</td>\n",
       "    </tr>\n",
       "    <tr>\n",
       "      <th>2910</th>\n",
       "      <td>3.491082e-13</td>\n",
       "    </tr>\n",
       "    <tr>\n",
       "      <th>2911</th>\n",
       "      <td>4.365240e-12</td>\n",
       "    </tr>\n",
       "    <tr>\n",
       "      <th>2912</th>\n",
       "      <td>2.142215e-11</td>\n",
       "    </tr>\n",
       "    <tr>\n",
       "      <th>2913</th>\n",
       "      <td>5.097195e-06</td>\n",
       "    </tr>\n",
       "    <tr>\n",
       "      <th>2914</th>\n",
       "      <td>2.660409e-05</td>\n",
       "    </tr>\n",
       "  </tbody>\n",
       "</table>\n",
       "<p>2915 rows × 1 columns</p>\n",
       "</div>"
      ],
      "text/plain": [
       "       Probability\n",
       "0     1.184252e-02\n",
       "1     3.486507e-05\n",
       "2     1.874192e-14\n",
       "3     1.289375e-08\n",
       "4     9.268315e-05\n",
       "...            ...\n",
       "2910  3.491082e-13\n",
       "2911  4.365240e-12\n",
       "2912  2.142215e-11\n",
       "2913  5.097195e-06\n",
       "2914  2.660409e-05\n",
       "\n",
       "[2915 rows x 1 columns]"
      ]
     },
     "execution_count": 60,
     "metadata": {},
     "output_type": "execute_result"
    }
   ],
   "source": [
    "df"
   ]
  }
 ],
 "metadata": {
  "kernelspec": {
   "display_name": "Python 3",
   "language": "python",
   "name": "python3"
  },
  "language_info": {
   "codemirror_mode": {
    "name": "ipython",
    "version": 3
   },
   "file_extension": ".py",
   "mimetype": "text/x-python",
   "name": "python",
   "nbconvert_exporter": "python",
   "pygments_lexer": "ipython3",
   "version": "3.8.8"
  }
 },
 "nbformat": 4,
 "nbformat_minor": 5
}
